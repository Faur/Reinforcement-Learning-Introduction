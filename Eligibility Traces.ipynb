{
 "cells": [
  {
   "cell_type": "markdown",
   "metadata": {},
   "source": [
    "### TODO\n",
    "* Explain: Eligibility traces\n",
    "* Explain: lambda methods\n",
    "* Explain: True online SARSA lambda\n",
    "* Explain: Tree Backup lambda\n",
    "* code: Run and compare (on mountain car). Also compare with forwards view\n",
    "\n",
    "\n",
    "### DONE\n",
    "\n",
    "\n",
    "### NOTES"
   ]
  },
  {
   "cell_type": "markdown",
   "metadata": {},
   "source": [
    "# Eligibility Traces for Reinforcement Learning\n",
    "\n",
    "## $\\lambda$-return\n",
    "### n-step truncated $\\lambda$-return\n",
    "\n",
    "## Eligibility Trace\n",
    "\n",
    "## Forward and Backward view\n",
    "\n",
    "## True Online Methods"
   ]
  },
  {
   "cell_type": "code",
   "execution_count": null,
   "metadata": {
    "collapsed": true
   },
   "outputs": [],
   "source": [
    "from __future__ import absolute_import\n",
    "from __future__ import division\n",
    "from __future__ import print_function\n"
   ]
  }
 ],
 "metadata": {
  "kernelspec": {
   "display_name": "Python 3",
   "language": "python",
   "name": "python3"
  },
  "language_info": {
   "codemirror_mode": {
    "name": "ipython",
    "version": 3
   },
   "file_extension": ".py",
   "mimetype": "text/x-python",
   "name": "python",
   "nbconvert_exporter": "python",
   "pygments_lexer": "ipython3",
   "version": "3.6.5"
  }
 },
 "nbformat": 4,
 "nbformat_minor": 2
}
