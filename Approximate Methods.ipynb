{
 "cells": [
  {
   "cell_type": "markdown",
   "metadata": {},
   "source": [
    "### TODO\n",
    "* Explain: Approximations\n",
    "* Explain: Linear approx.\n",
    "* Explain: Q-learning extension\n",
    "* Explain: SARSA extension\n",
    "* Explain: Mountain Car env\n",
    "* code: Run and compare (on mountain car)\n",
    "\n",
    "\n",
    "### DONE\n",
    "\n",
    "\n",
    "### NOTES"
   ]
  },
  {
   "cell_type": "markdown",
   "metadata": {},
   "source": [
    "# Linear Approximate Methods for Reinforcement Learning\n"
   ]
  },
  {
   "cell_type": "code",
   "execution_count": null,
   "metadata": {},
   "outputs": [],
   "source": [
    "get_ipython().run_line_magic('matplotlib', 'inline')"
   ]
  },
  {
   "cell_type": "code",
   "execution_count": null,
   "metadata": {},
   "outputs": [],
   "source": [
    "from __future__ import absolute_import\n",
    "from __future__ import division\n",
    "from __future__ import print_function\n",
    "\n",
    "from IPython.display import clear_output\n",
    "import numpy as np\n",
    "import matplotlib.pyplot as plt\n",
    "import gym\n",
    "\n",
    "import utils\n",
    "from tileEncoder import TileEncoder\n",
    "from agents import ApproximateNStepSARSA"
   ]
  },
  {
   "cell_type": "code",
   "execution_count": null,
   "metadata": {},
   "outputs": [],
   "source": [
    "def run_loop(env, agent, title, max_e=None):\n",
    "    t = 0; i = 0; e = 0\n",
    "    s, r, d, _ = env.reset()\n",
    "    a_ = agent.action(s)\n",
    "    ep_lens = []; rewards = []\n",
    "    r_sum = 0\n",
    "    since_last_plot = 0\n",
    "\n",
    "    while True:\n",
    "        i += 1; t += 1; since_last_plot += 1\n",
    "        a = a_\n",
    "        s_, r, d, _ = env.step(a)\n",
    "        a_ = agent.action(s_)\n",
    "\n",
    "        agent.update(s=s, a=a, r=r, s_=s_, a_=a_, d=d)\n",
    "        r_sum += r\n",
    "        s = np.copy(s_)\n",
    "\n",
    "        if (e + 1) % 100 == 0:\n",
    "            env.render()\n",
    "            \n",
    "\n",
    "        if d:\n",
    "           \n",
    "            ep_lens.append(i)\n",
    "            rewards.append(r_sum)\n",
    "            r_sum = 0; e += 1; i = 0\n",
    "            s, r, d, _ = env.reset()\n",
    "\n",
    "        if max_e and e >= max_e:\n",
    "            break\n",
    "\n",
    "    return ep_lens, rewards"
   ]
  },
  {
   "cell_type": "code",
   "execution_count": null,
   "metadata": {},
   "outputs": [],
   "source": [
    "num_runs = 50\n",
    "eps_per_run = 500\n",
    "n = 10"
   ]
  },
  {
   "cell_type": "code",
   "execution_count": null,
   "metadata": {},
   "outputs": [],
   "source": [
    "ApproxNSARSALearning_rewards = []\n",
    "ApproxNSARSALearning_eplen = []\n",
    "nbins = 8\n",
    "ntiles = 8\n",
    "env = TileEncoder(gym.make('MountainCar-v0'),nbins=nbins,ntiles=ntiles)\n",
    "for i in range(num_runs):\n",
    "    NSARSA_Learning = ApproximateNStepSARSA(env.obspace_shape(), env.nactions(), n=n)\n",
    "    ep_lens, rewards = run_loop(env, NSARSA_Learning, 'NSARSALearning, n='+str(n), max_e=eps_per_run)\n",
    "    ApproxNSARSALearning_rewards.append(rewards)\n",
    "    ApproxNSARSALearning_eplen.append(ep_lens)\n",
    "\n",
    "ApproxNSARSALearning_rewards  = np.array(ApproxNSARSALearning_rewards)\n",
    "ApproxNSARSALearning_eplen = np.array(ApproxNSARSALearning_eplen)\n",
    "env.close()"
   ]
  },
  {
   "cell_type": "code",
   "execution_count": null,
   "metadata": {},
   "outputs": [],
   "source": [
    "plt.figure()\n",
    "utils.reward_plotter(ApproxNSARSALearning_rewards, 'NSARSA', 'b')\n",
    "\n",
    "axes = plt.gca()\n",
    "axes.set_ylim([-200, 0])\n",
    "\n",
    "plt.show()\n",
    "\n",
    "res = 128\n",
    "linspaces = []\n",
    "for i in range(len(env.l_bound)): #do not consider number of tiles\n",
    "    linspaces.append(np.linspace(env.l_bound[i],env.h_bound[i],num=res))  \n",
    "mesh = np.meshgrid(linspaces[0],linspaces[1])\n",
    "\n",
    "costToGo = np.zeros([res, res, env.nactions()])\n",
    "\n",
    "for i in range(len(linspaces[0])):\n",
    "    for j in range(len(linspaces[1])):\n",
    "        s = env.encode([linspaces[0][i], linspaces[1][j]])\n",
    "        qsa = NSARSA_Learning.linapprox(s)\n",
    "        costToGo[i,j,:] = qsa\n",
    "costToGo = -np.amax(costToGo,axis=2)\n",
    "\n",
    "plt.imshow(costToGo)\n",
    "plt.colorbar()"
   ]
  }
 ],
 "metadata": {
  "kernelspec": {
   "display_name": "Python 3",
   "language": "python",
   "name": "python3"
  },
  "language_info": {
   "codemirror_mode": {
    "name": "ipython",
    "version": 3
   },
   "file_extension": ".py",
   "mimetype": "text/x-python",
   "name": "python",
   "nbconvert_exporter": "python",
   "pygments_lexer": "ipython3",
   "version": "3.6.5"
  }
 },
 "nbformat": 4,
 "nbformat_minor": 2
}
